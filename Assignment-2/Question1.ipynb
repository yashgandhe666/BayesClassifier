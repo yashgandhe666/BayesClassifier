{
 "cells": [
  {
   "cell_type": "code",
   "execution_count": 64,
   "metadata": {},
   "outputs": [],
   "source": [
    "from sklearn import tree\n",
    "from sklearn.model_selection import train_test_split\n",
    "import numpy as np\n",
    "import pandas as pd\n",
    "from sklearn.metrics import accuracy_score\n",
    "from sklearn.metrics import confusion_matrix\n",
    "\n",
    "from subprocess import check_call\n",
    "from graphviz import Source\n",
    "from sklearn import tree\n",
    "from IPython.display import SVG\n",
    "from os import system\n",
    "\n",
    "import random\n",
    "import matplotlib.pyplot as plt"
   ]
  },
  {
   "cell_type": "code",
   "execution_count": 65,
   "metadata": {},
   "outputs": [],
   "source": [
    "trainData = pd.read_csv(\"P1_data/trainX.csv\", header=None)\n",
    "trainLabel = pd.read_csv(\"P1_data/trainY.csv\", header=None)\n",
    "testData = pd.read_csv(\"P1_data/testX.csv\", header=None)\n",
    "testLabel = pd.read_csv(\"P1_data/testY.csv\", header=None)\n",
    "\n",
    "trainData = trainData.values\n",
    "trainLabel = trainLabel.values\n",
    "testData = testData.values\n",
    "testLabel = testLabel.values\n"
   ]
  },
  {
   "cell_type": "code",
   "execution_count": 66,
   "metadata": {},
   "outputs": [
    {
     "name": "stdout",
     "output_type": "stream",
     "text": [
      "Accuracy =  0.9473684210526315\n"
     ]
    }
   ],
   "source": [
    "model = tree.DecisionTreeClassifier(criterion = \"entropy\")\n",
    "model.fit(trainData, trainLabel)\n",
    "y_predict = model.predict(testData)\n",
    "print(\"Accuracy = \", accuracy_score(testLabel, y_predict))"
   ]
  },
  {
   "cell_type": "code",
   "execution_count": 67,
   "metadata": {},
   "outputs": [
    {
     "name": "stdout",
     "output_type": "stream",
     "text": [
      "                Predicted Benign  Predicted Malignant\n",
      "True Benign                   32                    0\n",
      "True Malignant                 3                   22\n"
     ]
    }
   ],
   "source": [
    "classi = pd.DataFrame(\n",
    "    confusion_matrix(testLabel, y_predict),\n",
    "    columns=['Predicted Benign', 'Predicted Malignant'],\n",
    "    index=['True Benign', 'True Malignant']\n",
    ")\n",
    "print(classi)"
   ]
  },
  {
   "cell_type": "code",
   "execution_count": 68,
   "metadata": {},
   "outputs": [
    {
     "name": "stdout",
     "output_type": "stream",
     "text": [
      "Misclassification rate for Malignant=  0.12\n",
      "Misclassification rate for Benign=  0.0\n"
     ]
    }
   ],
   "source": [
    "print(\"Misclassification rate for Malignant= \", classi.iloc[1,0]/(classi.iloc[1,0] + classi.iloc[1,1]))\n",
    "print(\"Misclassification rate for Benign= \", classi.iloc[0,1]/(classi.iloc[0,1] + classi.iloc[0,0]))"
   ]
  },
  {
   "cell_type": "code",
   "execution_count": 69,
   "metadata": {
    "scrolled": false
   },
   "outputs": [
    {
     "data": {
      "text/plain": [
       "32512"
      ]
     },
     "execution_count": 69,
     "metadata": {},
     "output_type": "execute_result"
    }
   ],
   "source": [
    "dotfile = open(\"tree.dot\", 'w')\n",
    "tree.export_graphviz(model, out_file = 'tree.dot')\n",
    "dotfile.close()\n",
    "system(\"dot tree.dot -Tpng -o tree.png\")\n",
    "\n",
    "# use http://www.webgraphviz.com/ to display the generated decision tree (tree.dot)."
   ]
  },
  {
   "cell_type": "code",
   "execution_count": 70,
   "metadata": {},
   "outputs": [
    {
     "name": "stdout",
     "output_type": "stream",
     "text": [
      "For  10 % of the sample set: \n",
      "\n",
      "Accuracy =  0.8070175438596491\n",
      "\n",
      "\n",
      "\n",
      "\n",
      "For  20 % of the sample set: \n",
      "\n",
      "Accuracy =  0.8947368421052632\n",
      "\n",
      "\n",
      "\n",
      "\n",
      "For  30 % of the sample set: \n",
      "\n",
      "Accuracy =  0.9122807017543859\n",
      "\n",
      "\n",
      "\n",
      "\n",
      "For  40 % of the sample set: \n",
      "\n",
      "Accuracy =  0.9122807017543859\n",
      "\n",
      "\n",
      "\n",
      "\n",
      "For  50 % of the sample set: \n",
      "\n",
      "Accuracy =  0.8245614035087719\n",
      "\n",
      "\n",
      "\n",
      "\n",
      "For  60 % of the sample set: \n",
      "\n",
      "Accuracy =  0.8596491228070176\n",
      "\n",
      "\n",
      "\n",
      "\n",
      "For  70 % of the sample set: \n",
      "\n",
      "Accuracy =  0.8771929824561403\n",
      "\n",
      "\n",
      "\n",
      "\n",
      "For  80 % of the sample set: \n",
      "\n",
      "Accuracy =  0.8771929824561403\n",
      "\n",
      "\n",
      "\n",
      "\n",
      "For  90 % of the sample set: \n",
      "\n",
      "Accuracy =  0.8596491228070176\n",
      "\n",
      "\n",
      "\n",
      "\n"
     ]
    },
    {
     "data": {
      "image/png": "[encoded data removed]",
      "text/plain": [
       "<Figure size 432x288 with 1 Axes>"
      ]
     },
     "metadata": {},
     "output_type": "display_data"
    }
   ],
   "source": [
    "accuracy = []\n",
    "for i in range(1,10):\n",
    "    print(\"For \", i*10, \"% of the sample set: \\n\")\n",
    "    indexes = []\n",
    "    values = []\n",
    "    tesD = []\n",
    "    trainD = random.sample(list(enumerate(trainData)), int(((i/10)*trainData.size)/30))\n",
    "    for idx, val in trainD:\n",
    "        indexes.append(idx)\n",
    "        values.append(val)\n",
    "    for j in range(0,len(indexes)):\n",
    "        tesD.append(trainLabel[indexes[j]]);\n",
    "        \n",
    "    tesD = [int(i) for i in tesD]\n",
    "    model = tree.DecisionTreeClassifier(criterion = \"entropy\")\n",
    "    model.fit(values, tesD)\n",
    "    y_predict = model.predict(testData)\n",
    "    accuracy.append(accuracy_score(testLabel, y_predict))\n",
    "    print(\"Accuracy = \", accuracy[i-1])\n",
    "    print(\"\\n\\n\\n\")\n",
    "\n",
    "i = list(range(10,100,10))\n",
    "plt.plot(i, accuracy)\n",
    "plt.xlabel('% of samples')\n",
    "plt.ylabel('Accuracy')\n",
    "plt.show()"
   ]
  },
  {
   "cell_type": "code",
   "execution_count": null,
   "metadata": {},
   "outputs": [],
   "source": []
  },
  {
   "cell_type": "code",
   "execution_count": null,
   "metadata": {},
   "outputs": [],
   "source": []
  }
 ],
 "metadata": {
  "kernelspec": {
   "display_name": "Python 3",
   "language": "python",
   "name": "python3"
  },
  "language_info": {
   "codemirror_mode": {
    "name": "ipython",
    "version": 3
   },
   "file_extension": ".py",
   "mimetype": "text/x-python",
   "name": "python",
   "nbconvert_exporter": "python",
   "pygments_lexer": "ipython3",
   "version": "3.6.4"
  }
 },
 "nbformat": 4,
 "nbformat_minor": 2
}
