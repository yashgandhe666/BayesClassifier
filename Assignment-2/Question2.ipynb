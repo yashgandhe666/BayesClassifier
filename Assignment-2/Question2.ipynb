{
 "cells": [
  {
   "cell_type": "code",
   "execution_count": 9,
   "metadata": {},
   "outputs": [],
   "source": [
    "import numpy as np\n",
    "from sklearn.tree import DecisionTreeRegressor\n",
    "import matplotlib.pyplot as plt\n",
    "import pandas as pd\n",
    "import random\n",
    "from sklearn.metrics import mean_squared_error as mse\n",
    "\n",
    "from sklearn.tree import export_graphviz\n",
    "import pydotplus\n",
    "from os import system\n",
    "import io"
   ]
  },
  {
   "cell_type": "code",
   "execution_count": 10,
   "metadata": {},
   "outputs": [],
   "source": [
    "data = pd.read_csv(\"P2_data/bikes.csv\")\n",
    "# data = data.to_dict()\n",
    "train = data.loc[:,'season':'windspeed']\n",
    "label = data.loc[:,'count']"
   ]
  },
  {
   "cell_type": "code",
   "execution_count": 11,
   "metadata": {},
   "outputs": [],
   "source": [
    "trainD = train.take(np.random.permutation(len(train))[:500])\n",
    "labelD = []\n",
    "for j in trainD.index:\n",
    "    labelD = np.append(labelD,label[j])"
   ]
  },
  {
   "cell_type": "code",
   "execution_count": 12,
   "metadata": {},
   "outputs": [
    {
     "name": "stdout",
     "output_type": "stream",
     "text": [
      "Mean Squared Error:  453750.877102604\n"
     ]
    },
    {
     "data": {
      "text/plain": [
       "32512"
      ]
     },
     "execution_count": 12,
     "metadata": {},
     "output_type": "execute_result"
    }
   ],
   "source": [
    "reg = DecisionTreeRegressor(max_leaf_nodes = 30)\n",
    "# Max leaf nodes set to 30\n",
    "reg.fit(trainD,labelD)\n",
    "testLabel = reg.predict(train)\n",
    "mse1 = mse(label, testLabel)\n",
    "print(\"Mean Squared Error: \", mse1)\n",
    "dotfile = open(\"reg.dot\", 'w')\n",
    "export_graphviz(reg, out_file = 'reg.dot')\n",
    "dotfile.close()\n",
    "system(\"dot reg.dot -Tpng -o reg.png\")\n",
    "\n",
    "# use http://www.webgraphviz.com/ to display the generated decision tree (reg.dot)."
   ]
  },
  {
   "cell_type": "markdown",
   "metadata": {},
   "source": [
    "### Parameters are as follows:\n",
    "#### For using as reference with the generated graph\n",
    "\n",
    "1. x[0] = Season\n",
    "2. x[1] = Year\n",
    "3. x[2] = Month\n",
    "4. x[3] = Holiday\n",
    "5. x[4] = Weekday\n",
    "6. x[5] = Working Day\n",
    "7. x[6] = Weather\n",
    "8. x[7] = Temperature\n",
    "9. x[8] = Humidity\n",
    "10. x[9] = Windspeed"
   ]
  },
  {
   "cell_type": "code",
   "execution_count": 13,
   "metadata": {},
   "outputs": [
    {
     "name": "stderr",
     "output_type": "stream",
     "text": [
      "/Users/yashgandhe/Coding/Virtualenv/machineL/lib/python3.6/site-packages/pandas/core/indexing.py:537: SettingWithCopyWarning: \n",
      "A value is trying to be set on a copy of a slice from a DataFrame.\n",
      "Try using .loc[row_indexer,col_indexer] = value instead\n",
      "\n",
      "See the caveats in the documentation: http://pandas.pydata.org/pandas-docs/stable/indexing.html#indexing-view-versus-copy\n",
      "  self.obj[item] = s\n"
     ]
    },
    {
     "name": "stdout",
     "output_type": "stream",
     "text": [
      "     season  year  month  holiday  weekday  workingday  weather      temp  \\\n",
      "491       2     1      2        0        0           0        2  0.562500   \n",
      "84        2     0      3        0        6           0        1  0.265833   \n",
      "310       4     0      3        0        1           1        1  0.395000   \n",
      "331       4     0      3        0        1           1        1  0.503478   \n",
      "222       3     0      2        0        4           1        1  0.717500   \n",
      "100       2     0      3        0        1           1        2  0.595652   \n",
      "346       4     0      3        0        2           1        1  0.282500   \n",
      "363       1     0      3        0        5           1        1  0.311667   \n",
      "297       4     0      2        0        2           1        1  0.471667   \n",
      "386       1     1      1        0        0           0        2  0.162500   \n",
      "525       2     1      2        0        6           0        1  0.710833   \n",
      "565       3     1      2        0        4           1        1  0.770000   \n",
      "147       2     0      2        0        6           0        1  0.655833   \n",
      "534       2     1      2        0        1           1        2  0.568333   \n",
      "26        1     0      1        0        4           1        1  0.195000   \n",
      "272       4     0      2        0        5           1        1  0.564167   \n",
      "334       4     0      3        0        4           1        1  0.312500   \n",
      "256       3     0      2        0        3           1        1  0.673333   \n",
      "329       4     0      3        0        6           0        1  0.375833   \n",
      "588       3     1      2        0        6           0        2  0.692500   \n",
      "434       1     1      3        0        6           0        1  0.287500   \n",
      "696       4     1      3        0        2           1        2  0.291667   \n",
      "635       4     1      2        0        4           1        2  0.650000   \n",
      "639       4     1      2        0        1           1        2  0.520833   \n",
      "711       4     1      3        0        3           1        2  0.297500   \n",
      "41        1     0      1        0        5           1        1  0.189091   \n",
      "362       1     0      3        0        4           1        1  0.248333   \n",
      "201       3     0      2        0        4           1        2  0.815000   \n",
      "432       1     1      3        0        4           1        1  0.527500   \n",
      "196       3     0      2        0        6           0        1  0.686667   \n",
      "..      ...   ...    ...      ...      ...         ...      ...       ...   \n",
      "523       2     1      2        0        4           1        1  0.602500   \n",
      "701       4     1      3        0        0           0        2  0.347500   \n",
      "567       3     1      2        0        6           0        3  0.595833   \n",
      "299       4     0      2        0        4           1        2  0.470000   \n",
      "459       2     1      3        0        3           1        1  0.541667   \n",
      "526       2     1      2        0        0           0        1  0.726667   \n",
      "440       1     1      3        0        5           1        2  0.435833   \n",
      "369       1     1      1        0        4           1        1  0.265833   \n",
      "513       2     1      2        1        1           0        1  0.712500   \n",
      "104       2     0      3        1        5           0        1  0.446667   \n",
      "599       3     1      2        0        3           1        1  0.667500   \n",
      "458       2     1      3        0        2           1        1  0.466667   \n",
      "431       1     1      3        0        3           1        1  0.404167   \n",
      "419       1     1      1        0        5           1        2  0.407500   \n",
      "470       2     1      3        0        0           0        1  0.606667   \n",
      "186       3     0      2        0        3           1        1  0.720000   \n",
      "66        1     0      3        0        2           1        1  0.292500   \n",
      "159       2     0      2        0        4           1        2  0.808333   \n",
      "593       3     1      2        0        4           1        1  0.719167   \n",
      "38        1     0      1        0        2           1        1  0.220833   \n",
      "97        2     0      3        0        5           1        2  0.335833   \n",
      "321       4     0      3        0        5           1        1  0.274167   \n",
      "445       2     1      3        0        3           1        2  0.531667   \n",
      "86        2     0      3        0        1           1        1  0.264348   \n",
      "669       4     1      2        0        3           1        2  0.357500   \n",
      "188       3     0      2        0        5           1        2  0.709167   \n",
      "343       4     0      3        0        6           0        1  0.275000   \n",
      "391       1     1      1        0        5           1        2  0.425000   \n",
      "266       4     0      2        0        6           0        2  0.606667   \n",
      "709       4     1      3        0        1           1        2  0.435833   \n",
      "\n",
      "     humidity  windspeed  \n",
      "491  0.740000   0.149879  \n",
      "84   0.394167   0.209571  \n",
      "310  0.758750   0.057225  \n",
      "331  0.743043   0.142122  \n",
      "222  0.423750   0.164796  \n",
      "100  0.716956   0.324474  \n",
      "346  0.590000   0.140550  \n",
      "363  0.636667   0.134337  \n",
      "297  0.622917   0.166658  \n",
      "386  0.796250   0.199638  \n",
      "525  0.437083   0.144287  \n",
      "565  0.600417   0.165429  \n",
      "147  0.729583   0.230092  \n",
      "534  0.777917   0.174746  \n",
      "26   0.687500   0.113837  \n",
      "272  0.647500   0.206475  \n",
      "334  0.524583   0.220158  \n",
      "256  0.697083   0.167300  \n",
      "329  0.681667   0.068421  \n",
      "588  0.732917   0.206479  \n",
      "434  0.350417   0.225750  \n",
      "696  0.786667   0.237562  \n",
      "635  0.690833   0.134342  \n",
      "639  0.649167   0.090804  \n",
      "711  0.538333   0.162937  \n",
      "41   0.506364   0.108550  \n",
      "362  0.574167   0.119412  \n",
      "201  0.691250   0.222021  \n",
      "432  0.567500   0.441563  \n",
      "196  0.585000   0.208342  \n",
      "..        ...        ...  \n",
      "523  0.567083   0.157350  \n",
      "701  0.823333   0.124379  \n",
      "567  0.865417   0.213300  \n",
      "299  0.812917   0.197763  \n",
      "459  0.469583   0.180975  \n",
      "526  0.538333   0.133721  \n",
      "440  0.842083   0.113192  \n",
      "369  0.524167   0.129987  \n",
      "513  0.676250   0.196521  \n",
      "104  0.671250   0.226375  \n",
      "599  0.677083   0.070283  \n",
      "458  0.396667   0.100133  \n",
      "431  0.513333   0.345779  \n",
      "419  0.737500   0.237567  \n",
      "470  0.507917   0.225129  \n",
      "186  0.743333   0.149883  \n",
      "66   0.420833   0.120650  \n",
      "159  0.568333   0.149883  \n",
      "593  0.519167   0.141796  \n",
      "38   0.537917   0.361950  \n",
      "97   0.836250   0.226992  \n",
      "321  0.410000   0.168533  \n",
      "445  0.821250   0.089558  \n",
      "86   0.302174   0.212204  \n",
      "669  0.666667   0.166667  \n",
      "188  0.757917   0.225129  \n",
      "343  0.507500   0.233221  \n",
      "391  0.741250   0.342667  \n",
      "266  0.862500   0.078383  \n",
      "709  0.925000   0.190308  \n",
      "\n",
      "[500 rows x 10 columns]\n"
     ]
    }
   ],
   "source": [
    "length = len(trainD)\n",
    "for j in range(0,length):\n",
    "    # for Jan and Feb\n",
    "    if trainD.iloc[j,2] == 2:\n",
    "        trainD.iloc[j,2] = 1\n",
    "    # for May to October\n",
    "    if np.logical_or(np.logical_or(trainD.iloc[j,2] == 5, trainD.iloc[j,2] == 6), trainD.iloc[j,2] == 7):\n",
    "        trainD.iloc[j,2] = 2\n",
    "    if np.logical_or(np.logical_or(trainD.iloc[j,2] == 8, trainD.iloc[j,2] == 9),trainD.iloc[j,2] == 10 ):\n",
    "        trainD.iloc[j,2] = 2\n",
    "    \n",
    "    if np.logical_or(trainD.iloc[j,2] == 3,trainD.iloc[j,2] == 4): \n",
    "        trainD.iloc[j,2] = 3\n",
    "    if np.logical_or(trainD.iloc[j,2] == 11,trainD.iloc[j,2] == 12): \n",
    "        trainD.iloc[j,2] = 3\n",
    "        \n",
    "print(trainD)"
   ]
  },
  {
   "cell_type": "code",
   "execution_count": 14,
   "metadata": {},
   "outputs": [
    {
     "name": "stdout",
     "output_type": "stream",
     "text": [
      "Mean Squared Error:  608048.2323388526\n"
     ]
    },
    {
     "data": {
      "text/plain": [
       "32512"
      ]
     },
     "execution_count": 14,
     "metadata": {},
     "output_type": "execute_result"
    }
   ],
   "source": [
    "reg1 = DecisionTreeRegressor(max_leaf_nodes = 30)\n",
    "# Max leaf nodes set to 30\n",
    "reg1.fit(trainD,labelD)\n",
    "testLabel = reg1.predict(train)\n",
    "mse2 = mse(label, testLabel)\n",
    "print(\"Mean Squared Error: \", mse2)\n",
    "dotfile = open(\"reg1.dot\", 'w')\n",
    "export_graphviz(reg1, out_file = 'reg1.dot')\n",
    "dotfile.close()\n",
    "system(\"dot reg1.dot -Tpng -o reg1.png\")\n",
    "\n",
    "# use http://www.webgraphviz.com/ to display the generated decision tree (reg1.dot)."
   ]
  },
  {
   "cell_type": "markdown",
   "metadata": {},
   "source": [
    "### Parameters are as follows:\n",
    "#### For using as reference with the generated graph\n",
    "\n",
    "1. x[0] = Season\n",
    "2. x[1] = Year\n",
    "3. x[2] = Month\n",
    "4. x[3] = Holiday\n",
    "5. x[4] = Weekday\n",
    "6. x[5] = Working Day\n",
    "7. x[6] = Weather\n",
    "8. x[7] = Temperature\n",
    "9. x[8] = Humidity\n",
    "10. x[9] = Windspeed"
   ]
  },
  {
   "cell_type": "markdown",
   "metadata": {},
   "source": [
    "#### The generated graphs in both the cases will be different as is observed. \n",
    "#### The MSE in the second case when the months have changed indices is observed to be more."
   ]
  },
  {
   "cell_type": "code",
   "execution_count": null,
   "metadata": {},
   "outputs": [],
   "source": []
  }
 ],
 "metadata": {
  "kernelspec": {
   "display_name": "Python 3",
   "language": "python",
   "name": "python3"
  },
  "language_info": {
   "codemirror_mode": {
    "name": "ipython",
    "version": 3
   },
   "file_extension": ".py",
   "mimetype": "text/x-python",
   "name": "python",
   "nbconvert_exporter": "python",
   "pygments_lexer": "ipython3",
   "version": "3.6.4"
  }
 },
 "nbformat": 4,
 "nbformat_minor": 2
}
