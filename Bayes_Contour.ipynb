{
 "cells": [
  {
   "cell_type": "code",
   "execution_count": 953,
   "metadata": {},
   "outputs": [],
   "source": [
    "import csv\n",
    "import numpy as np\n",
    "import matplotlib.pyplot as plt\n",
    "from matplotlib.mlab import bivariate_normal"
   ]
  },
  {
   "cell_type": "code",
   "execution_count": 954,
   "metadata": {},
   "outputs": [],
   "source": [
    "trainingData = 'P2_data/P2_train.csv'\n",
    "testData = 'P2_data/P2_test.csv'"
   ]
  },
  {
   "cell_type": "code",
   "execution_count": 955,
   "metadata": {},
   "outputs": [],
   "source": [
    "dRows = []\n",
    "tdRows = []\n",
    "with open(trainingData, 'r') as csvfile:\n",
    "    csvreader = csv.reader(csvfile)\n",
    "    for row in csvreader:\n",
    "        dRows.append(row)\n",
    "with open(testData, 'r') as csvfile:\n",
    "    csvreader = csv.reader(csvfile)\n",
    "    for row in csvreader:\n",
    "        tdRows.append(row)"
   ]
  },
  {
   "cell_type": "code",
   "execution_count": 956,
   "metadata": {},
   "outputs": [],
   "source": [
    "temp = []\n",
    "c0 = []\n",
    "c1 = []\n",
    "iter1 = 0\n",
    "for y in dRows:\n",
    "    temp.append([float(x) for x in y])\n",
    "\n",
    "label1 = [x[2] for x in temp]\n",
    "for row in label1:\n",
    "    if(row == 0.0):\n",
    "        c0.append([temp[iter1][x] for x in range(0,2)])\n",
    "    elif(row == 1.0):\n",
    "        c1.append([temp[iter1][x] for x in range(0,2)])\n",
    "    iter1+=1"
   ]
  },
  {
   "cell_type": "code",
   "execution_count": 957,
   "metadata": {},
   "outputs": [],
   "source": [
    "temp = []\n",
    "t0 = []\n",
    "t1 = []\n",
    "iter2 = 0\n",
    "for y in tdRows:\n",
    "    temp.append([float(x) for x in y])\n",
    "    \n",
    "label2 = [x[2] for x in temp] #for verification\n",
    "\n",
    "for row in label2:\n",
    "    if(row == 0.0):\n",
    "        t0.append([temp[iter2][x] for x in range(0,2)])\n",
    "    elif(row == 1.0):\n",
    "        t1.append([temp[iter2][x] for x in range(0,2)])\n",
    "    iter2+=1 "
   ]
  },
  {
   "cell_type": "code",
   "execution_count": 958,
   "metadata": {},
   "outputs": [],
   "source": [
    "prior0 = len(c0)/(len(c0)+ len(c1))\n",
    "prior1 = len(c1)/(len(c0)+ len(c1))"
   ]
  },
  {
   "cell_type": "code",
   "execution_count": 959,
   "metadata": {},
   "outputs": [],
   "source": [
    "c0_mean = np.mean(c0, axis = 0)\n",
    "c1_mean = np.mean(c1, axis = 0)\n",
    "cov_c0 = np.cov(np.transpose(c0))\n",
    "cov_c1 = np.cov(np.transpose(c1))"
   ]
  },
  {
   "cell_type": "code",
   "execution_count": 960,
   "metadata": {},
   "outputs": [],
   "source": [
    "def gaussian(temp, cov_c0_, cov_c1_, c0_mean_, c1_mean_):\n",
    "    p0 = []\n",
    "    p1 = []\n",
    "    p0_new = []\n",
    "    p1_new = []\n",
    "    temp2 = [x[0:2] for x in temp]\n",
    "    length = len(temp2)\n",
    "    for i in range(0,length):\n",
    "        p0.append((1/((2* np.pi)*np.power(np.linalg.det(cov_c0_),0.5))) *(np.exp (-0.5 * (np.linalg.multi_dot([(temp2[i] - c0_mean_) , (np.linalg.inv(cov_c0_)), (temp2[i] - c0_mean_).T])) )) )\n",
    "        p1.append((1/((2* np.pi)*np.power(np.linalg.det(cov_c1_),0.5))) *(np.exp (-0.5 * (np.dot(np.dot((temp2[i] - c1_mean_) , np.linalg.inv(cov_c1_)), np.transpose(temp2[i] - c1_mean_))))) )\n",
    "    p0_new = [i*prior0 for i in p0]\n",
    "    p1_new = [i*prior1 for i in p1]\n",
    "    return p0_new, p1_new"
   ]
  },
  {
   "cell_type": "code",
   "execution_count": 961,
   "metadata": {},
   "outputs": [],
   "source": [
    "def classify_data(p0_new, p1_new):\n",
    "    classify = []\n",
    "    confusion = []\n",
    "    for i in range(0, length):\n",
    "        if p0_new[i] < p1_new[i]:\n",
    "            classify.append(1)\n",
    "        elif p1_new[i] < p0_new[i]:\n",
    "            classify.append(0)\n",
    "\n",
    "# tp = true positive (expected = 6, classified = 6)\n",
    "# tn = true negative (expected = 5, classified = 5)\n",
    "# fp = false positive (expected = 5, classified = 6)\n",
    "# fp = false negative (expected = 6, classified = 5)\n",
    "    \n",
    "    tp = 0\n",
    "    tn = 0\n",
    "    fp = 0\n",
    "    fn = 0\n",
    "    for i in range(0, length):\n",
    "        if classify[i] == 1 and label2[i] == 1:\n",
    "            tp+=1\n",
    "        if classify[i] == 0 and label2[i] == 0:\n",
    "            tn+=1\n",
    "        if classify[i] == 0 and label2[i] == 1:\n",
    "            fn+=1\n",
    "        if classify[i] == 1 and label2[i] == 0:\n",
    "            fp+=1\n",
    "\n",
    "    print(\"Total Samples: \",fn+tp+tn+fp)\n",
    "    print(\"Accuracy for 1: \",(tp)/(fn+tp))\n",
    "    print(\"Accuracy for 0: \",(tn)/(tn+fp))\n",
    "    print(\"Total Accuracy: \",(tp+tn)/(fn+tp+tn+fp))\n",
    "\n",
    "    confusion = [[tn, fp],[fn, tp]]\n",
    "    print(\"Confusion Matrix: \", confusion)\n",
    "    misclass0 = fp/(fp + tn)\n",
    "    misclass1 = fn/(fn + tp)\n",
    "    print(\"Misclassification Error for 0: \", misclass0)\n",
    "    print(\"Misclassification Error for 1: \", misclass1)\n"
   ]
  },
  {
   "cell_type": "code",
   "execution_count": 962,
   "metadata": {},
   "outputs": [],
   "source": [
    "def plotting(cov_c2, cov_c3, c2_mean, c3_mean):\n",
    "    z3 = []\n",
    "    z4 = []\n",
    "    x = np.linspace(-4,4,90)\n",
    "    y = np.linspace(-8,8,90)\n",
    "    X, Y = np.meshgrid(x,y)\n",
    "    z = bivariate_normal(X,Y, cov_c2[0][0] ** 0.5, cov_c2[1][1] ** 0.5, c2_mean[0], c2_mean[1], cov_c2[0][1] )\n",
    "    z1 = bivariate_normal(X,Y, cov_c3[0][0] ** 0.5, cov_c3[1][1] ** 0.5, c3_mean[0], c3_mean[1], cov_c3[0][1] )\n",
    "    plt.contour(X, Y, z1-z, colors='blue')\n"
   ]
  },
  {
   "cell_type": "markdown",
   "metadata": {},
   "source": [
    "### Uncomment the cases below one by one and run the entire script to get the respective confusion matrices\n",
    "#### Keep ONLY one  cell uncommented (any one case)\n"
   ]
  },
  {
   "cell_type": "code",
   "execution_count": 963,
   "metadata": {},
   "outputs": [],
   "source": [
    "# # Case A\n",
    "# cov_A = cov_c0\n",
    "# cov_A[1][0] = 0\n",
    "# cov_A[0][1] = 0\n",
    "# cov_A[1][1] = cov_A[0][0]\n",
    "\n",
    "# [p0_new_A, p1_new_A] = gaussian(temp, cov_A, cov_A, c0_mean, c1_mean)\n",
    "# classify_data(p0_new_A, p1_new_A)\n",
    "# plotting(cov_A, cov_A, c0_mean, c1_mean)"
   ]
  },
  {
   "cell_type": "code",
   "execution_count": 964,
   "metadata": {},
   "outputs": [],
   "source": [
    "# # Case B\n",
    "# cov_B = cov_c0\n",
    "# cov_B[1][0] = 0\n",
    "# cov_B[0][1] = 0\n",
    "\n",
    "# [p0_new_B, p1_new_B] = gaussian(temp, cov_B, cov_B, c0_mean, c1_mean)\n",
    "# classify_data(p0_new_B, p1_new_B)\n",
    "# plotting(cov_B, cov_B, c0_mean, c1_mean)"
   ]
  },
  {
   "cell_type": "code",
   "execution_count": 965,
   "metadata": {},
   "outputs": [],
   "source": [
    "# # Case C\n",
    "# cov_C = cov_c0\n",
    "\n",
    "# [p0_new_C, p1_new_C] = gaussian(temp, cov_C, cov_C, c0_mean, c1_mean)\n",
    "# classify_data(p0_new_C, p1_new_C)\n",
    "# plotting(cov_C, cov_C, c0_mean, c1_mean)"
   ]
  },
  {
   "cell_type": "code",
   "execution_count": 966,
   "metadata": {},
   "outputs": [
    {
     "name": "stdout",
     "output_type": "stream",
     "text": [
      "Total Samples:  90\n",
      "Accuracy for 1:  1.0\n",
      "Accuracy for 0:  1.0\n",
      "Total Accuracy:  1.0\n",
      "Confusion Matrix:  [[50, 0], [0, 40]]\n",
      "Misclassification Error for 0:  0.0\n",
      "Misclassification Error for 1:  0.0\n"
     ]
    },
    {
     "name": "stderr",
     "output_type": "stream",
     "text": [
      "/Users/yashgandhe/Coding/Virtualenv/machineL/lib/python3.6/site-packages/ipykernel_launcher.py:7: MatplotlibDeprecationWarning: The bivariate_normal function was deprecated in version 2.2.\n",
      "  import sys\n",
      "/Users/yashgandhe/Coding/Virtualenv/machineL/lib/python3.6/site-packages/ipykernel_launcher.py:8: MatplotlibDeprecationWarning: The bivariate_normal function was deprecated in version 2.2.\n",
      "  \n"
     ]
    },
    {
     "data": {
      "image/png": "[encoded data removed]",
      "text/plain": [
       "<Figure size 432x288 with 1 Axes>"
      ]
     },
     "metadata": {},
     "output_type": "display_data"
    }
   ],
   "source": [
    "# Case D\n",
    "[p0_new, p1_new] = gaussian(temp, cov_c0, cov_c1, c0_mean, c1_mean)\n",
    "classify_data(p0_new, p1_new)\n",
    "plotting(cov_c0, cov_c1, c0_mean, c1_mean)"
   ]
  },
  {
   "cell_type": "code",
   "execution_count": null,
   "metadata": {},
   "outputs": [],
   "source": []
  },
  {
   "cell_type": "code",
   "execution_count": null,
   "metadata": {},
   "outputs": [],
   "source": []
  }
 ],
 "metadata": {
  "kernelspec": {
   "display_name": "Python 3",
   "language": "python",
   "name": "python3"
  },
  "language_info": {
   "codemirror_mode": {
    "name": "ipython",
    "version": 3
   },
   "file_extension": ".py",
   "mimetype": "text/x-python",
   "name": "python",
   "nbconvert_exporter": "python",
   "pygments_lexer": "ipython3",
   "version": "3.6.4"
  }
 },
 "nbformat": 4,
 "nbformat_minor": 2
}
