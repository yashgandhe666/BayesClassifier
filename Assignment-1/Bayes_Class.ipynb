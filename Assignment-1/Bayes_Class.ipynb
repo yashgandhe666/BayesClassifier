{
 "cells": [
  {
   "cell_type": "code",
   "execution_count": 313,
   "metadata": {},
   "outputs": [],
   "source": [
    "import csv\n",
    "import numpy as np"
   ]
  },
  {
   "cell_type": "code",
   "execution_count": 314,
   "metadata": {},
   "outputs": [],
   "source": [
    "trainingData = 'P1_data/P1_data_train.csv'\n",
    "trainingLabel = 'P1_data/P1_labels_train.csv'\n",
    "testData = 'P1_data/P1_data_test.csv'\n",
    "testLabel = 'P1_data/P1_labels_test.csv'"
   ]
  },
  {
   "cell_type": "code",
   "execution_count": 315,
   "metadata": {},
   "outputs": [],
   "source": [
    "dRows = []\n",
    "lRows = []\n",
    "tdRows = []\n",
    "tlRows = []\n",
    "with open(trainingData, 'r') as csvfile:\n",
    "    csvreader = csv.reader(csvfile)\n",
    "    for row in csvreader:\n",
    "        dRows.append(row)\n",
    "\n",
    "with open(trainingLabel, 'r') as csvfile:\n",
    "    csvreader = csv.reader(csvfile)\n",
    "    for row in csvreader:\n",
    "        lRows.append(row)\n",
    "\n",
    "with open(testData, 'r') as csvfile:\n",
    "    csvreader = csv.reader(csvfile)\n",
    "    for row in csvreader:\n",
    "        tdRows.append(row)\n",
    "        \n",
    "with open(testLabel, 'r') as csvfile:\n",
    "    csvreader = csv.reader(csvfile)\n",
    "    for row in csvreader:\n",
    "        tlRows.append(row)"
   ]
  },
  {
   "cell_type": "code",
   "execution_count": 316,
   "metadata": {},
   "outputs": [],
   "source": [
    "# Convert the sample dataset to int and then classify according to the labels into '5' and '6'\n",
    "temp = []\n",
    "c5 = []\n",
    "c6 = []\n",
    "iter1 = 0\n",
    "for y in dRows:\n",
    "    temp.append([int(x) for x in y])\n",
    "\n",
    "for row in lRows:\n",
    "    if(row == ['5']):\n",
    "        c5.append(temp[iter1])\n",
    "    elif(row == ['6']):\n",
    "        c6.append(temp[iter1])\n",
    "    iter1 += 1"
   ]
  },
  {
   "cell_type": "code",
   "execution_count": 317,
   "metadata": {},
   "outputs": [],
   "source": [
    "# Convert the test dataset to int\n",
    "temp = []\n",
    "temp1 = []\n",
    "t5 = []\n",
    "t6 = []\n",
    "iter2 = 0\n",
    "for y in tdRows:\n",
    "    temp.append([int(x) for x in y])\n",
    "for y in tlRows:\n",
    "    temp1.append([int(x) for x in y])\n",
    "\n",
    "for row in tlRows:\n",
    "    if(row == ['5']):\n",
    "        t5.append(temp[iter2])\n",
    "    elif(row == ['6']):\n",
    "        t6.append(temp[iter2])\n",
    "    iter2 += 1"
   ]
  },
  {
   "cell_type": "code",
   "execution_count": 318,
   "metadata": {},
   "outputs": [
    {
     "name": "stdout",
     "output_type": "stream",
     "text": [
      "396 381\n"
     ]
    }
   ],
   "source": [
    "# Prior probabilities for Bayes Formula are calculated\n",
    "prior5 = len(c5)/(len(c6)+ len(c5))\n",
    "prior6 = len(c6)/(len(c6)+ len(c5))\n",
    "print(len(c5), len(c6))"
   ]
  },
  {
   "cell_type": "code",
   "execution_count": 334,
   "metadata": {},
   "outputs": [],
   "source": [
    "# Calculation of mean and covariance for sample data\n",
    "c5_mean = np.mean(c5, axis = 0)\n",
    "c6_mean = np.mean(c6, axis = 0)\n",
    "cov_c5 = np.cov(np.transpose(c5))\n",
    "cov_c6 = np.cov(np.transpose(c6))"
   ]
  },
  {
   "cell_type": "code",
   "execution_count": 329,
   "metadata": {},
   "outputs": [],
   "source": [
    "# Calculation of conditional probabilites as normal distribution\n",
    "p5 = []\n",
    "p6 = []\n",
    "length = len(temp)\n",
    "for i in range(0,length):\n",
    "    p5.append((1/(np.power(2* np.pi, 32)*np.power(np.linalg.det(cov_c5),0.5))) *(np.exp (-0.5 * (np.linalg.multi_dot([(temp[i] - c5_mean) , (np.linalg.inv(cov_c5)), (temp[i] - c5_mean).T])) )) )\n",
    "    p6.append((1/ (np.power(2* np.pi, 32)*np.power(np.linalg.det(cov_c6),0.5))) *(np.exp (-0.5 * (np.dot(np.dot((temp[i] - c6_mean) , np.linalg.inv(cov_c6)), np.transpose(temp[i] - c6_mean))))) )\n",
    "\n",
    "# Multiplying priori probabilities with the conditional probabilities\n",
    "p5_new = [i*prior5 for i in p5]\n",
    "p6_new = [i*prior6 for i in p6]"
   ]
  },
  {
   "cell_type": "code",
   "execution_count": 330,
   "metadata": {},
   "outputs": [],
   "source": [
    "classify = []\n",
    "for i in range(0, length):\n",
    "    if p5_new[i] < p6_new[i]:\n",
    "        classify.append(6)\n",
    "    elif p6_new[i] < p5_new[i]:\n",
    "        classify.append(5)"
   ]
  },
  {
   "cell_type": "code",
   "execution_count": 336,
   "metadata": {},
   "outputs": [
    {
     "name": "stdout",
     "output_type": "stream",
     "text": [
      "0.848314606741573\n",
      "0.6838709677419355\n",
      "0.7717717717717718\n",
      "151 106\n"
     ]
    }
   ],
   "source": [
    "# tp = true positive (expected = 6, classified = 6)\n",
    "# tn = true negative (expected = 5, classified = 5)\n",
    "# fp = false positive (expected = 5, classified = 6)\n",
    "# fp = false negative (expected = 6, classified = 5)\n",
    "tp = 0\n",
    "tn = 0\n",
    "fp = 0\n",
    "fn = 0\n",
    "for i in range(0, length):\n",
    "    if classify[i] == 6 and temp1[i] == [6]:\n",
    "        tp+=1\n",
    "    if classify[i] == 5 and temp1[i] == [5]:\n",
    "        tn+=1\n",
    "    if classify[i] == 5 and temp1[i] == [6]:\n",
    "        fn+=1\n",
    "    if classify[i] == 6 and temp1[i] == [5]:\n",
    "        fp+=1\n",
    "\n",
    "print((tp)/(fn+tp)) #accuracy for 6\n",
    "print((tn)/(tn+fp)) #accuracy for 5\n",
    "print((tp+tn)/(fn+tp+tn+fp)) #total accuracy\n",
    "print(tp ,tn)"
   ]
  },
  {
   "cell_type": "code",
   "execution_count": 338,
   "metadata": {},
   "outputs": [
    {
     "name": "stdout",
     "output_type": "stream",
     "text": [
      "[[106, 49], [27, 151]]\n",
      "0.3161290322580645 0.15168539325842698\n"
     ]
    }
   ],
   "source": [
    "# Confusion Matrix = [tn fp]\n",
    "#                    [fn tp]\n",
    "confusion = [[tn, fp],[fn, tp]]\n",
    "print(confusion)\n",
    "misclass5 = fp/(fp + tn)\n",
    "misclass6 = fn/(fn + tp)\n",
    "print(misclass5, misclass6)"
   ]
  },
  {
   "cell_type": "code",
   "execution_count": null,
   "metadata": {},
   "outputs": [],
   "source": []
  },
  {
   "cell_type": "code",
   "execution_count": null,
   "metadata": {},
   "outputs": [],
   "source": []
  }
 ],
 "metadata": {
  "kernelspec": {
   "display_name": "Python 3",
   "language": "python",
   "name": "python3"
  },
  "language_info": {
   "codemirror_mode": {
    "name": "ipython",
    "version": 3
   },
   "file_extension": ".py",
   "mimetype": "text/x-python",
   "name": "python",
   "nbconvert_exporter": "python",
   "pygments_lexer": "ipython3",
   "version": "3.6.4"
  }
 },
 "nbformat": 4,
 "nbformat_minor": 2
}
